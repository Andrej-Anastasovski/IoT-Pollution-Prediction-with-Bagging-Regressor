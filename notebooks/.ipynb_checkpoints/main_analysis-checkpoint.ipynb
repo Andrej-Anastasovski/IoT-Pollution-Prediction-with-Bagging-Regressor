{
 "cells": [
  {
   "cell_type": "code",
   "execution_count": null,
   "id": "79b7eba1",
   "metadata": {
    "vscode": {
     "languageId": "plaintext"
    }
   },
   "outputs": [],
   "source": [
    "import pandas as pd\n",
    "\n",
    "# Load the Excel files\n",
    "day_df = pd.read_excel('../data/day.xls')\n",
    "hour_df = pd.read_excel('../data/hour.xls')\n",
    "\n",
    "# Preview the data\n",
    "print(\"Day dataset:\")\n",
    "display(day_df.head())\n",
    "\n",
    "print(\"\\nHour dataset:\")\n",
    "display(hour_df.head())\n"
   ]
  }
 ],
 "metadata": {
  "language_info": {
   "name": "python"
  }
 },
 "nbformat": 4,
 "nbformat_minor": 5
}
